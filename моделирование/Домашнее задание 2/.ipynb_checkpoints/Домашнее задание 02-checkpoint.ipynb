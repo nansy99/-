{
 "cells": [
  {
   "cell_type": "markdown",
   "metadata": {},
   "source": [
    "# Задание 02"
   ]
  },
  {
   "cell_type": "markdown",
   "metadata": {},
   "source": [
    "![](got.png)"
   ]
  },
  {
   "cell_type": "code",
   "execution_count": 1,
   "metadata": {},
   "outputs": [],
   "source": [
    "import numpy as np\n",
    "import matplotlib.pyplot as plt\n",
    "%matplotlib inline\n",
    "import networkx as nx\n",
    "import pandas as pd"
   ]
  },
  {
   "cell_type": "markdown",
   "metadata": {},
   "source": [
    "Будем изучать важность персонажей в книгах \"A Song of Ice and Fire\" (G.R.R. Martin). Два героя связаны ребром, если их имена появляются в тексте на расстоянии не более 15 слов в соответствующей книге. [Данные](https://github.com/mathbeveridge/asoiaf) находятся в открытом доступе для 5 книг.\n",
    "Сеть -- взвешенная, вес ребра определяется числом взаимодействий (упоминаний в тексте)."
   ]
  },
  {
   "cell_type": "code",
   "execution_count": 2,
   "metadata": {},
   "outputs": [],
   "source": [
    "book1 = pd.read_csv('game_of_thrones_network/asoiaf-book1-edges.csv')\n",
    "book2 = pd.read_csv('game_of_thrones_network/asoiaf-book2-edges.csv')\n",
    "book3 = pd.read_csv('game_of_thrones_network/asoiaf-book3-edges.csv')\n",
    "book4 = pd.read_csv('game_of_thrones_network/asoiaf-book4-edges.csv')\n",
    "book5 = pd.read_csv('game_of_thrones_network/asoiaf-book5-edges.csv')"
   ]
  },
  {
   "cell_type": "code",
   "execution_count": 3,
   "metadata": {},
   "outputs": [
    {
     "data": {
      "text/html": [
       "<div>\n",
       "<style scoped>\n",
       "    .dataframe tbody tr th:only-of-type {\n",
       "        vertical-align: middle;\n",
       "    }\n",
       "\n",
       "    .dataframe tbody tr th {\n",
       "        vertical-align: top;\n",
       "    }\n",
       "\n",
       "    .dataframe thead th {\n",
       "        text-align: right;\n",
       "    }\n",
       "</style>\n",
       "<table border=\"1\" class=\"dataframe\">\n",
       "  <thead>\n",
       "    <tr style=\"text-align: right;\">\n",
       "      <th></th>\n",
       "      <th>Source</th>\n",
       "      <th>Target</th>\n",
       "      <th>Type</th>\n",
       "      <th>weight</th>\n",
       "      <th>book</th>\n",
       "    </tr>\n",
       "  </thead>\n",
       "  <tbody>\n",
       "    <tr>\n",
       "      <th>0</th>\n",
       "      <td>Aegon-I-Targaryen</td>\n",
       "      <td>Daenerys-Targaryen</td>\n",
       "      <td>undirected</td>\n",
       "      <td>4</td>\n",
       "      <td>5</td>\n",
       "    </tr>\n",
       "    <tr>\n",
       "      <th>1</th>\n",
       "      <td>Aegon-Targaryen-(son-of-Rhaegar)</td>\n",
       "      <td>Daenerys-Targaryen</td>\n",
       "      <td>undirected</td>\n",
       "      <td>11</td>\n",
       "      <td>5</td>\n",
       "    </tr>\n",
       "    <tr>\n",
       "      <th>2</th>\n",
       "      <td>Aegon-Targaryen-(son-of-Rhaegar)</td>\n",
       "      <td>Elia-Martell</td>\n",
       "      <td>undirected</td>\n",
       "      <td>4</td>\n",
       "      <td>5</td>\n",
       "    </tr>\n",
       "    <tr>\n",
       "      <th>3</th>\n",
       "      <td>Aegon-Targaryen-(son-of-Rhaegar)</td>\n",
       "      <td>Franklyn-Flowers</td>\n",
       "      <td>undirected</td>\n",
       "      <td>3</td>\n",
       "      <td>5</td>\n",
       "    </tr>\n",
       "    <tr>\n",
       "      <th>4</th>\n",
       "      <td>Aegon-Targaryen-(son-of-Rhaegar)</td>\n",
       "      <td>Haldon</td>\n",
       "      <td>undirected</td>\n",
       "      <td>14</td>\n",
       "      <td>5</td>\n",
       "    </tr>\n",
       "  </tbody>\n",
       "</table>\n",
       "</div>"
      ],
      "text/plain": [
       "                             Source              Target        Type  weight  \\\n",
       "0                 Aegon-I-Targaryen  Daenerys-Targaryen  undirected       4   \n",
       "1  Aegon-Targaryen-(son-of-Rhaegar)  Daenerys-Targaryen  undirected      11   \n",
       "2  Aegon-Targaryen-(son-of-Rhaegar)        Elia-Martell  undirected       4   \n",
       "3  Aegon-Targaryen-(son-of-Rhaegar)    Franklyn-Flowers  undirected       3   \n",
       "4  Aegon-Targaryen-(son-of-Rhaegar)              Haldon  undirected      14   \n",
       "\n",
       "   book  \n",
       "0     5  \n",
       "1     5  \n",
       "2     5  \n",
       "3     5  \n",
       "4     5  "
      ]
     },
     "execution_count": 3,
     "metadata": {},
     "output_type": "execute_result"
    }
   ],
   "source": [
    "book5.head()"
   ]
  },
  {
   "cell_type": "markdown",
   "metadata": {},
   "source": [
    "#### Постройте сеть персонажей по первой книге. "
   ]
  },
  {
   "cell_type": "code",
   "execution_count": 4,
   "metadata": {},
   "outputs": [],
   "source": [
    "G1=nx.from_pandas_edgelist(book1,'Source', 'Target', edge_attr=True, create_using=nx.Graph())"
   ]
  },
  {
   "cell_type": "code",
   "execution_count": 5,
   "metadata": {},
   "outputs": [
    {
     "name": "stdout",
     "output_type": "stream",
     "text": [
      "('Jaime-Lannister', 'Loras-Tyrell', {'Type': 'Undirected', 'weight': 3, 'book': 1})\n"
     ]
    }
   ],
   "source": [
    "print(list(G1.edges(data=True))[16]) # ребро в сети"
   ]
  },
  {
   "cell_type": "markdown",
   "metadata": {},
   "source": [
    "#### 1.  Определите топ-10 персонажей по значению центральности по степени. Сколько среди них Старков? (1 балл)"
   ]
  },
  {
   "cell_type": "code",
   "execution_count": 6,
   "metadata": {},
   "outputs": [
    {
     "data": {
      "text/plain": [
       "[('Eddard-Stark', 0.3548387096774194),\n",
       " ('Robert-Baratheon', 0.2688172043010753),\n",
       " ('Tyrion-Lannister', 0.24731182795698928),\n",
       " ('Catelyn-Stark', 0.23118279569892475),\n",
       " ('Jon-Snow', 0.19892473118279572),\n",
       " ('Robb-Stark', 0.18817204301075272),\n",
       " ('Sansa-Stark', 0.18817204301075272),\n",
       " ('Bran-Stark', 0.17204301075268819),\n",
       " ('Cersei-Lannister', 0.16129032258064518),\n",
       " ('Joffrey-Baratheon', 0.16129032258064518)]"
      ]
     },
     "execution_count": 6,
     "metadata": {},
     "output_type": "execute_result"
    }
   ],
   "source": [
    "d_cent = nx.degree_centrality(G1)\n",
    "d_cent_items = list(d_cent.items())\n",
    "d_cent_items.sort(key=lambda i: i[1], reverse= True)\n",
    "d_cent_top10 = d_cent_items[:10]\n",
    "d_cent_top10"
   ]
  },
  {
   "cell_type": "code",
   "execution_count": 7,
   "metadata": {},
   "outputs": [
    {
     "data": {
      "text/plain": [
       "5"
      ]
     },
     "execution_count": 7,
     "metadata": {},
     "output_type": "execute_result"
    }
   ],
   "source": [
    "count_Stark = 0\n",
    "for i in d_cent_top10:\n",
    "    if 'Stark' in i[0]:\n",
    "        count_Stark +=1\n",
    "count_Stark"
   ]
  },
  {
   "cell_type": "markdown",
   "metadata": {},
   "source": [
    "В топ-10 вошло 5 Старков."
   ]
  },
  {
   "cell_type": "markdown",
   "metadata": {},
   "source": [
    "#### 2. Постройте функцию weighted_degree, учитывающую вес ребер: \n",
    "\n",
    "$$d_{w}^{i}=\\sum_{j} w_{i,j},$$ где $w_{i,j}$ -- вес ребра $(i,j)$ ($w_{i,j}=0$, если нет ребра между вершинами $i$ и $j$).\n",
    "\n",
    "#### Какое значение взвешенной степени у Eddard-Stark в сети? (1 балл)"
   ]
  },
  {
   "cell_type": "code",
   "execution_count": 9,
   "metadata": {},
   "outputs": [
    {
     "name": "stdout",
     "output_type": "stream",
     "text": [
      "('Eddard-Stark', 6.903225806451613)\n"
     ]
    }
   ],
   "source": [
    "def weighted_degree(node, G):\n",
    "    weight_degree = 0\n",
    "    for i in (G[node]):\n",
    "        weight_degree +=  G[node][i]['weight']\n",
    "    weight_degree  = weight_degree /(G.number_of_nodes()-1)\n",
    "    return node, weight_degree\n",
    "\n",
    "print(weighted_degree(\"Eddard-Stark\", G1))"
   ]
  },
  {
   "cell_type": "markdown",
   "metadata": {},
   "source": [
    "#### 3. Сколько персонажей из топ-10, определенным по центральности по степени (из вопроса 1) осталось в топ-10 по взвешенной степени ? (1 балл)"
   ]
  },
  {
   "cell_type": "code",
   "execution_count": 10,
   "metadata": {},
   "outputs": [
    {
     "data": {
      "text/plain": [
       "[('Eddard-Stark', 6.903225806451613),\n",
       " ('Robert-Baratheon', 5.059139784946237),\n",
       " ('Jon-Snow', 4.21505376344086),\n",
       " ('Tyrion-Lannister', 3.4946236559139785),\n",
       " ('Sansa-Stark', 2.9301075268817205),\n",
       " ('Bran-Stark', 2.8548387096774195),\n",
       " ('Catelyn-Stark', 2.795698924731183),\n",
       " ('Robb-Stark', 2.774193548387097),\n",
       " ('Daenerys-Targaryen', 2.381720430107527),\n",
       " ('Arya-Stark', 2.3118279569892475)]"
      ]
     },
     "execution_count": 10,
     "metadata": {},
     "output_type": "execute_result"
    }
   ],
   "source": [
    "w_degree_all_nodes = [weighted_degree(node,G1) for node in G1.nodes]\n",
    "w_degree_all_nodes.sort(key=lambda i: i[1], reverse= True)\n",
    "d_cent_weight_top10 = w_degree_all_nodes[:10]\n",
    "d_cent_weight_top10"
   ]
  },
  {
   "cell_type": "code",
   "execution_count": 11,
   "metadata": {},
   "outputs": [
    {
     "data": {
      "text/plain": [
       "8"
      ]
     },
     "execution_count": 11,
     "metadata": {},
     "output_type": "execute_result"
    }
   ],
   "source": [
    "count=0\n",
    "for i in d_cent_top10:\n",
    "    for j in d_cent_weight_top10:\n",
    "        if (i[0]==j[0]):\n",
    "            count+=1\n",
    "count"
   ]
  },
  {
   "cell_type": "markdown",
   "metadata": {},
   "source": [
    "Из топ-10, определенным по центральности по степени, осталось 8 персонажей."
   ]
  },
  {
   "cell_type": "markdown",
   "metadata": {},
   "source": [
    "#### 4.  Постройте топ-10 персонажей  по значению центральности по посредничеству. \n",
    "Сравните с топ-10 по степени и по взвешенной степени. \n",
    "#### Какой новый персонаж появился в рейтинге? (1 балл)"
   ]
  },
  {
   "cell_type": "code",
   "execution_count": 12,
   "metadata": {
    "scrolled": true
   },
   "outputs": [
    {
     "data": {
      "text/plain": [
       "[('Eddard-Stark', 0.2696038913836117),\n",
       " ('Robert-Baratheon', 0.21403028397371796),\n",
       " ('Tyrion-Lannister', 0.1902124972697492),\n",
       " ('Jon-Snow', 0.17158135899829566),\n",
       " ('Catelyn-Stark', 0.1513952715347627),\n",
       " ('Daenerys-Targaryen', 0.08627015537511595),\n",
       " ('Robb-Stark', 0.07298399629664767),\n",
       " ('Drogo', 0.06481224290874964),\n",
       " ('Bran-Stark', 0.05579958811784442),\n",
       " ('Sansa-Stark', 0.03714483664326785)]"
      ]
     },
     "execution_count": 12,
     "metadata": {},
     "output_type": "execute_result"
    }
   ],
   "source": [
    "b_cent = nx.betweenness_centrality(G1)\n",
    "b_cent_items = list(b_cent.items())\n",
    "b_cent_items.sort(key=lambda i: i[1], reverse= True)\n",
    "b_cent_top10 = b_cent_items[:10]\n",
    "b_cent_top10 "
   ]
  },
  {
   "cell_type": "code",
   "execution_count": 13,
   "metadata": {},
   "outputs": [
    {
     "data": {
      "text/plain": [
       "{'Drogo'}"
      ]
     },
     "execution_count": 13,
     "metadata": {},
     "output_type": "execute_result"
    }
   ],
   "source": [
    "d_cent_top10_names = [ i[0] for i in d_cent_top10]\n",
    "d_cent_weight_top10_names = [ i[0] for i in d_cent_weight_top10]\n",
    "b_cent_top10_names = [ i[0] for i in b_cent_top10]\n",
    "set(b_cent_top10_names) - set(d_cent_weight_top10_names) - set(d_cent_top10_names)"
   ]
  },
  {
   "cell_type": "markdown",
   "metadata": {},
   "source": [
    "Появился персонаж 'Drogo'"
   ]
  },
  {
   "cell_type": "markdown",
   "metadata": {},
   "source": [
    "#### 5. Постройте топ-10 персонажей по значению центральности по посредничеству с учетом веса ребер. Кто теперь возглавляет список? (1 балл)"
   ]
  },
  {
   "cell_type": "code",
   "execution_count": 14,
   "metadata": {},
   "outputs": [
    {
     "data": {
      "text/plain": [
       "[('Robert-Baratheon', 0.23341885664466297),\n",
       " ('Eddard-Stark', 0.18703429235687297),\n",
       " ('Tyrion-Lannister', 0.15311225972516293),\n",
       " ('Robb-Stark', 0.1024018949825402),\n",
       " ('Catelyn-Stark', 0.10169012330302643),\n",
       " ('Jon-Snow', 0.09027684366394043),\n",
       " ('Jaime-Lannister', 0.07745109164464009),\n",
       " ('Rodrik-Cassel', 0.07667992877670296),\n",
       " ('Drogo', 0.06894355184677767),\n",
       " ('Jorah-Mormont', 0.0627085149665795)]"
      ]
     },
     "execution_count": 14,
     "metadata": {},
     "output_type": "execute_result"
    }
   ],
   "source": [
    "b_cent_w = nx.betweenness_centrality(G1, weight= 'weight')\n",
    "b_cent_w_items = list(b_cent_w.items())\n",
    "b_cent_w_items.sort(key=lambda i: i[1], reverse= True)\n",
    "b_cent_weight_top10 = b_cent_w_items[:10]\n",
    "b_cent_weight_top10"
   ]
  },
  {
   "cell_type": "code",
   "execution_count": 15,
   "metadata": {},
   "outputs": [
    {
     "data": {
      "text/plain": [
       "('Robert-Baratheon', 0.23341885664466297)"
      ]
     },
     "execution_count": 15,
     "metadata": {},
     "output_type": "execute_result"
    }
   ],
   "source": [
    "b_cent_weight_top10[0]"
   ]
  },
  {
   "cell_type": "markdown",
   "metadata": {},
   "source": [
    "Теперь возглавляет топ-10 'Robert-Baratheon'"
   ]
  },
  {
   "cell_type": "markdown",
   "metadata": {},
   "source": [
    "####  6. Постройте топ-10 по значению PageRank (по умолчанию учитываются веса ребер). Какое место в топе  занимает Daenerys-Targaryen? (1 балл)"
   ]
  },
  {
   "cell_type": "code",
   "execution_count": 16,
   "metadata": {},
   "outputs": [
    {
     "data": {
      "text/plain": [
       "[('Eddard-Stark', 0.07236162026570053),\n",
       " ('Robert-Baratheon', 0.04849367196106828),\n",
       " ('Jon-Snow', 0.04770801150205559),\n",
       " ('Tyrion-Lannister', 0.04367631315626212),\n",
       " ('Catelyn-Stark', 0.03466661321136357),\n",
       " ('Bran-Stark', 0.029770049939322262),\n",
       " ('Robb-Stark', 0.029214217154195955),\n",
       " ('Daenerys-Targaryen', 0.02709861295221426),\n",
       " ('Sansa-Stark', 0.02694466267974005),\n",
       " ('Cersei-Lannister', 0.021620370924386133)]"
      ]
     },
     "execution_count": 16,
     "metadata": {},
     "output_type": "execute_result"
    }
   ],
   "source": [
    "pr = nx.pagerank(G1)\n",
    "pr_items = list(pr.items())\n",
    "pr_items.sort(key=lambda i: i[1], reverse= True)\n",
    "pr_top10 = pr_items[:10]\n",
    "pr_top10"
   ]
  },
  {
   "cell_type": "code",
   "execution_count": 17,
   "metadata": {},
   "outputs": [
    {
     "name": "stdout",
     "output_type": "stream",
     "text": [
      "8\n"
     ]
    }
   ],
   "source": [
    "for place,i in enumerate(pr_top10):\n",
    "    if (i[0]== 'Daenerys-Targaryen'):\n",
    "        print(place+1)"
   ]
  },
  {
   "cell_type": "markdown",
   "metadata": {},
   "source": [
    "'Daenerys-Targaryen' занимает 8 место "
   ]
  },
  {
   "cell_type": "markdown",
   "metadata": {},
   "source": [
    "#### 7. Постройте рейтинг по значению центральности по степени для персонажей 5-ой книги. Какую теперь наивысшую строчку рейтинга занимает персонаж из Дома Старков?  (1 балл)"
   ]
  },
  {
   "cell_type": "code",
   "execution_count": 18,
   "metadata": {},
   "outputs": [],
   "source": [
    "G5=nx.from_pandas_edgelist(book5,'Source', 'Target', edge_attr=True, create_using=nx.Graph())"
   ]
  },
  {
   "cell_type": "code",
   "execution_count": 19,
   "metadata": {},
   "outputs": [
    {
     "data": {
      "text/plain": [
       "[('Jon-Snow', 0.1962025316455696),\n",
       " ('Daenerys-Targaryen', 0.18354430379746836),\n",
       " ('Stannis-Baratheon', 0.14873417721518986),\n",
       " ('Tyrion-Lannister', 0.10443037974683544),\n",
       " ('Theon-Greyjoy', 0.10443037974683544),\n",
       " ('Cersei-Lannister', 0.08860759493670886),\n",
       " ('Barristan-Selmy', 0.07911392405063292),\n",
       " ('Hizdahr-zo-Loraq', 0.06962025316455696),\n",
       " ('Asha-Greyjoy', 0.056962025316455694),\n",
       " ('Melisandre', 0.05379746835443038)]"
      ]
     },
     "execution_count": 19,
     "metadata": {},
     "output_type": "execute_result"
    }
   ],
   "source": [
    "d_cent_b5 = nx.degree_centrality(G5)\n",
    "d_cent_b5_items = list(d_cent_b5.items())\n",
    "d_cent_b5_items.sort(key=lambda i: i[1], reverse= True)\n",
    "d_cent_b5_top10 = d_cent_b5_items[:10]\n",
    "d_cent_b5_top10"
   ]
  },
  {
   "cell_type": "code",
   "execution_count": 20,
   "metadata": {},
   "outputs": [
    {
     "name": "stdout",
     "output_type": "stream",
     "text": [
      "21\n"
     ]
    }
   ],
   "source": [
    "for place, i in enumerate(d_cent_b5_items):\n",
    "    if ('Stark' in i[0]):\n",
    "        print(place+1)\n",
    "        break"
   ]
  },
  {
   "cell_type": "markdown",
   "metadata": {},
   "source": [
    "Наивысшая строчка рейтинга персонажа из дома Старков = 21"
   ]
  },
  {
   "cell_type": "markdown",
   "metadata": {},
   "source": [
    "#### 8.  Выберите персонажа и постройте график, показывающий как менялась его влиятельность от номера книги. (2 балл)"
   ]
  },
  {
   "cell_type": "code",
   "execution_count": 21,
   "metadata": {},
   "outputs": [
    {
     "data": {
      "text/plain": [
       "[0.19892473118279572,\n",
       " 0.10852713178294573,\n",
       " 0.17218543046357615,\n",
       " 0.040293040293040296,\n",
       " 0.1962025316455696]"
      ]
     },
     "execution_count": 21,
     "metadata": {},
     "output_type": "execute_result"
    }
   ],
   "source": [
    "G2=nx.from_pandas_edgelist(book2,'Source', 'Target', edge_attr=True, create_using=nx.Graph())\n",
    "G3=nx.from_pandas_edgelist(book3,'Source', 'Target', edge_attr=True, create_using=nx.Graph())\n",
    "G4=nx.from_pandas_edgelist(book4,'Source', 'Target', edge_attr=True, create_using=nx.Graph())\n",
    "G = [G1, G2, G3, G4, G5]\n",
    "person = \"Jon-Snow\"\n",
    "person_d_cent= [nx.degree_centrality(i)[person] for i in G]\n",
    "person_d_cent"
   ]
  },
  {
   "cell_type": "code",
   "execution_count": 22,
   "metadata": {},
   "outputs": [
    {
     "data": {
      "image/png": "[encoded data removed]",
      "text/plain": [
       "<Figure size 1000x500 with 1 Axes>"
      ]
     },
     "metadata": {
      "needs_background": "light"
     },
     "output_type": "display_data"
    }
   ],
   "source": [
    "fig = plt.figure(figsize=(10,5),dpi=100)\n",
    "\n",
    "plt.plot(range(1,6),person_d_cent)\n",
    "plt.xticks([1.0, 2.0, 3.0, 4.0, 5.0], ['book 1', 'book2', 'book 3', 'book 4', 'book 5'])\n",
    "plt.xlabel('Books',fontsize=14)\n",
    "plt.ylabel('Degree_centrality',fontsize=14)\n",
    "plt.title('Влиятельность персонажа');"
   ]
  },
  {
   "cell_type": "markdown",
   "metadata": {},
   "source": [
    "#### 9. Кто из персонажей самый влиятельный? (2 балла)\n",
    "Постройте сеть, объединяющую сети по всем книгам. Постройте таблицу наиболее влиятельных персонажей в зависимости от выбранной метрики.\n"
   ]
  },
  {
   "cell_type": "code",
   "execution_count": 23,
   "metadata": {},
   "outputs": [],
   "source": [
    "metrics=['degree centrality','weighted degree','eigenvector centrality',\n",
    "         'PageRank','closeness centrality','betweenness centrality']\n",
    "\n",
    "df = pd.DataFrame(columns=['centrality metrics', 'character'], index=list(np.arange(1,len(metrics)+1)))\n",
    "df['centrality metrics']=metrics"
   ]
  },
  {
   "cell_type": "code",
   "execution_count": 24,
   "metadata": {},
   "outputs": [],
   "source": [
    "G = [G1, G2, G3, G4, G5]\n",
    "G_all = nx.compose_all(G)"
   ]
  },
  {
   "cell_type": "code",
   "execution_count": 25,
   "metadata": {},
   "outputs": [],
   "source": [
    "for i in G_all.nodes:\n",
    "    for j in G_all.nodes:\n",
    "        if (G_all.has_edge(i,j)):\n",
    "            w = 0 \n",
    "            for book in G:\n",
    "                if (book.has_edge(i,j)):\n",
    "                    w += book[i][j]['weight']\n",
    "            G_all[i][j]['weight'] = w"
   ]
  },
  {
   "cell_type": "code",
   "execution_count": 26,
   "metadata": {},
   "outputs": [],
   "source": [
    "metrics = [nx.degree_centrality, weighted_degree, nx.eigenvector_centrality, nx.pagerank, nx.closeness_centrality, nx.betweenness_centrality]\n",
    "top1 = []\n",
    "for i in metrics:\n",
    "    if (i == metrics[1]):\n",
    "        cent = [i(node,G_all) for node in G_all.nodes]\n",
    "    else:\n",
    "        cent = i(G_all)\n",
    "        cent_items = list(cent.items())\n",
    "    cent_items.sort(key=lambda i: i[1], reverse= True)\n",
    "    top1.append((i, cent_items[0][0]))"
   ]
  },
  {
   "cell_type": "code",
   "execution_count": 27,
   "metadata": {},
   "outputs": [
    {
     "data": {
      "text/plain": [
       "[(<function networkx.algorithms.centrality.degree_alg.degree_centrality(G)>,\n",
       "  'Tyrion-Lannister'),\n",
       " (<function __main__.weighted_degree(node, G)>, 'Tyrion-Lannister'),\n",
       " (<function networkx.algorithms.centrality.eigenvector.eigenvector_centrality(G, max_iter=100, tol=1e-06, nstart=None, weight=None)>,\n",
       "  'Tyrion-Lannister'),\n",
       " (<function networkx.algorithms.link_analysis.pagerank_alg.pagerank(G, alpha=0.85, personalization=None, max_iter=100, tol=1e-06, nstart=None, weight='weight', dangling=None)>,\n",
       "  'Jon-Snow'),\n",
       " (<function networkx.algorithms.centrality.closeness.closeness_centrality(G, u=None, distance=None, wf_improved=True)>,\n",
       "  'Tyrion-Lannister'),\n",
       " (<function networkx.algorithms.centrality.betweenness.betweenness_centrality(G, k=None, normalized=True, weight=None, endpoints=False, seed=None)>,\n",
       "  'Jon-Snow')]"
      ]
     },
     "execution_count": 27,
     "metadata": {},
     "output_type": "execute_result"
    }
   ],
   "source": [
    "top1"
   ]
  },
  {
   "cell_type": "code",
   "execution_count": 28,
   "metadata": {},
   "outputs": [],
   "source": [
    "df[\"character\"]= [i[1] for i in top1]"
   ]
  },
  {
   "cell_type": "code",
   "execution_count": 29,
   "metadata": {},
   "outputs": [
    {
     "data": {
      "text/html": [
       "<div>\n",
       "<style scoped>\n",
       "    .dataframe tbody tr th:only-of-type {\n",
       "        vertical-align: middle;\n",
       "    }\n",
       "\n",
       "    .dataframe tbody tr th {\n",
       "        vertical-align: top;\n",
       "    }\n",
       "\n",
       "    .dataframe thead th {\n",
       "        text-align: right;\n",
       "    }\n",
       "</style>\n",
       "<table border=\"1\" class=\"dataframe\">\n",
       "  <thead>\n",
       "    <tr style=\"text-align: right;\">\n",
       "      <th></th>\n",
       "      <th>centrality metrics</th>\n",
       "      <th>character</th>\n",
       "    </tr>\n",
       "  </thead>\n",
       "  <tbody>\n",
       "    <tr>\n",
       "      <th>1</th>\n",
       "      <td>degree centrality</td>\n",
       "      <td>Tyrion-Lannister</td>\n",
       "    </tr>\n",
       "    <tr>\n",
       "      <th>2</th>\n",
       "      <td>weighted degree</td>\n",
       "      <td>Tyrion-Lannister</td>\n",
       "    </tr>\n",
       "    <tr>\n",
       "      <th>3</th>\n",
       "      <td>eigenvector centrality</td>\n",
       "      <td>Tyrion-Lannister</td>\n",
       "    </tr>\n",
       "    <tr>\n",
       "      <th>4</th>\n",
       "      <td>PageRank</td>\n",
       "      <td>Jon-Snow</td>\n",
       "    </tr>\n",
       "    <tr>\n",
       "      <th>5</th>\n",
       "      <td>closeness centrality</td>\n",
       "      <td>Tyrion-Lannister</td>\n",
       "    </tr>\n",
       "    <tr>\n",
       "      <th>6</th>\n",
       "      <td>betweenness centrality</td>\n",
       "      <td>Jon-Snow</td>\n",
       "    </tr>\n",
       "  </tbody>\n",
       "</table>\n",
       "</div>"
      ],
      "text/plain": [
       "       centrality metrics         character\n",
       "1       degree centrality  Tyrion-Lannister\n",
       "2         weighted degree  Tyrion-Lannister\n",
       "3  eigenvector centrality  Tyrion-Lannister\n",
       "4                PageRank          Jon-Snow\n",
       "5    closeness centrality  Tyrion-Lannister\n",
       "6  betweenness centrality          Jon-Snow"
      ]
     },
     "execution_count": 29,
     "metadata": {},
     "output_type": "execute_result"
    }
   ],
   "source": [
    "df"
   ]
  },
  {
   "cell_type": "code",
   "execution_count": null,
   "metadata": {},
   "outputs": [],
   "source": []
  },
  {
   "cell_type": "code",
   "execution_count": null,
   "metadata": {},
   "outputs": [],
   "source": []
  }
 ],
 "metadata": {
  "kernelspec": {
   "display_name": "Python 3",
   "language": "python",
   "name": "python3"
  },
  "language_info": {
   "codemirror_mode": {
    "name": "ipython",
    "version": 3
   },
   "file_extension": ".py",
   "mimetype": "text/x-python",
   "name": "python",
   "nbconvert_exporter": "python",
   "pygments_lexer": "ipython3",
   "version": "3.8.5"
  }
 },
 "nbformat": 4,
 "nbformat_minor": 2
}
